{
 "cells": [
  {
   "cell_type": "markdown",
   "id": "6ac57529",
   "metadata": {},
   "source": [
    "## 4. Explorative Datenanalyse und statische Bewertung\n"
   ]
  },
  {
   "cell_type": "code",
   "execution_count": 1,
   "id": "100f1072",
   "metadata": {},
   "outputs": [],
   "source": [
    "import pandas as pd\n",
    "import numpy as np\n",
    "from matplotlib import pyplot as plt\n",
    "import seaborn as sns\n",
    "import warnings\n",
    "warnings.simplefilter(action='ignore')"
   ]
  },
  {
   "cell_type": "code",
   "execution_count": 2,
   "id": "b48f183d",
   "metadata": {},
   "outputs": [],
   "source": [
    "df = pd.read_parquet('df_prossesing.parquet')"
   ]
  },
  {
   "cell_type": "code",
   "execution_count": 3,
   "id": "9cb78a8d",
   "metadata": {},
   "outputs": [
    {
     "data": {
      "text/html": [
       "<div>\n",
       "<style scoped>\n",
       "    .dataframe tbody tr th:only-of-type {\n",
       "        vertical-align: middle;\n",
       "    }\n",
       "\n",
       "    .dataframe tbody tr th {\n",
       "        vertical-align: top;\n",
       "    }\n",
       "\n",
       "    .dataframe thead th {\n",
       "        text-align: right;\n",
       "    }\n",
       "</style>\n",
       "<table border=\"1\" class=\"dataframe\">\n",
       "  <thead>\n",
       "    <tr style=\"text-align: right;\">\n",
       "      <th></th>\n",
       "      <th>RowNumber</th>\n",
       "      <th>CustomerId</th>\n",
       "      <th>Surname</th>\n",
       "      <th>CreditScore</th>\n",
       "      <th>Geography</th>\n",
       "      <th>Gender</th>\n",
       "      <th>Age</th>\n",
       "      <th>Tenure</th>\n",
       "      <th>Balance</th>\n",
       "      <th>NumOfProducts</th>\n",
       "      <th>HasCrCard</th>\n",
       "      <th>IsActiveMember</th>\n",
       "      <th>EstimatedSalary</th>\n",
       "      <th>Exited</th>\n",
       "      <th>Age_ord</th>\n",
       "      <th>CreditScore_ord</th>\n",
       "      <th>Balance_ord</th>\n",
       "      <th>EstimatedSalary_ord</th>\n",
       "    </tr>\n",
       "  </thead>\n",
       "  <tbody>\n",
       "    <tr>\n",
       "      <th>0</th>\n",
       "      <td>1</td>\n",
       "      <td>15634602</td>\n",
       "      <td>Hargrave</td>\n",
       "      <td>619</td>\n",
       "      <td>1</td>\n",
       "      <td>0</td>\n",
       "      <td>42</td>\n",
       "      <td>2</td>\n",
       "      <td>0.00</td>\n",
       "      <td>1</td>\n",
       "      <td>1</td>\n",
       "      <td>1</td>\n",
       "      <td>101348.88</td>\n",
       "      <td>1</td>\n",
       "      <td>41 to 50</td>\n",
       "      <td>501 to 699</td>\n",
       "      <td>0 to 25000</td>\n",
       "      <td>100001 to 125000</td>\n",
       "    </tr>\n",
       "    <tr>\n",
       "      <th>1</th>\n",
       "      <td>2</td>\n",
       "      <td>15647311</td>\n",
       "      <td>Hill</td>\n",
       "      <td>608</td>\n",
       "      <td>0</td>\n",
       "      <td>0</td>\n",
       "      <td>41</td>\n",
       "      <td>1</td>\n",
       "      <td>83807.86</td>\n",
       "      <td>1</td>\n",
       "      <td>0</td>\n",
       "      <td>1</td>\n",
       "      <td>112542.58</td>\n",
       "      <td>0</td>\n",
       "      <td>41 to 50</td>\n",
       "      <td>501 to 699</td>\n",
       "      <td>50001 to 100000</td>\n",
       "      <td>100001 to 125000</td>\n",
       "    </tr>\n",
       "    <tr>\n",
       "      <th>2</th>\n",
       "      <td>3</td>\n",
       "      <td>15619304</td>\n",
       "      <td>Onio</td>\n",
       "      <td>502</td>\n",
       "      <td>1</td>\n",
       "      <td>0</td>\n",
       "      <td>42</td>\n",
       "      <td>8</td>\n",
       "      <td>159660.80</td>\n",
       "      <td>3</td>\n",
       "      <td>1</td>\n",
       "      <td>0</td>\n",
       "      <td>113931.57</td>\n",
       "      <td>1</td>\n",
       "      <td>41 to 50</td>\n",
       "      <td>501 to 699</td>\n",
       "      <td>100001 to 200000</td>\n",
       "      <td>100001 to 125000</td>\n",
       "    </tr>\n",
       "    <tr>\n",
       "      <th>3</th>\n",
       "      <td>4</td>\n",
       "      <td>15701354</td>\n",
       "      <td>Boni</td>\n",
       "      <td>699</td>\n",
       "      <td>1</td>\n",
       "      <td>0</td>\n",
       "      <td>39</td>\n",
       "      <td>1</td>\n",
       "      <td>0.00</td>\n",
       "      <td>2</td>\n",
       "      <td>0</td>\n",
       "      <td>0</td>\n",
       "      <td>93826.63</td>\n",
       "      <td>0</td>\n",
       "      <td>31 to 40</td>\n",
       "      <td>501 to 699</td>\n",
       "      <td>0 to 25000</td>\n",
       "      <td>75001 to 100000</td>\n",
       "    </tr>\n",
       "    <tr>\n",
       "      <th>4</th>\n",
       "      <td>5</td>\n",
       "      <td>15737888</td>\n",
       "      <td>Mitchell</td>\n",
       "      <td>850</td>\n",
       "      <td>0</td>\n",
       "      <td>0</td>\n",
       "      <td>43</td>\n",
       "      <td>2</td>\n",
       "      <td>125510.82</td>\n",
       "      <td>1</td>\n",
       "      <td>1</td>\n",
       "      <td>1</td>\n",
       "      <td>79084.10</td>\n",
       "      <td>0</td>\n",
       "      <td>41 to 50</td>\n",
       "      <td>700 to 950</td>\n",
       "      <td>100001 to 200000</td>\n",
       "      <td>75001 to 100000</td>\n",
       "    </tr>\n",
       "  </tbody>\n",
       "</table>\n",
       "</div>"
      ],
      "text/plain": [
       "   RowNumber  CustomerId   Surname  CreditScore  Geography  Gender  Age  \\\n",
       "0          1    15634602  Hargrave          619          1       0   42   \n",
       "1          2    15647311      Hill          608          0       0   41   \n",
       "2          3    15619304      Onio          502          1       0   42   \n",
       "3          4    15701354      Boni          699          1       0   39   \n",
       "4          5    15737888  Mitchell          850          0       0   43   \n",
       "\n",
       "   Tenure    Balance  NumOfProducts  HasCrCard  IsActiveMember  \\\n",
       "0       2       0.00              1          1               1   \n",
       "1       1   83807.86              1          0               1   \n",
       "2       8  159660.80              3          1               0   \n",
       "3       1       0.00              2          0               0   \n",
       "4       2  125510.82              1          1               1   \n",
       "\n",
       "   EstimatedSalary  Exited   Age_ord CreditScore_ord       Balance_ord  \\\n",
       "0        101348.88       1  41 to 50      501 to 699        0 to 25000   \n",
       "1        112542.58       0  41 to 50      501 to 699   50001 to 100000   \n",
       "2        113931.57       1  41 to 50      501 to 699  100001 to 200000   \n",
       "3         93826.63       0  31 to 40      501 to 699        0 to 25000   \n",
       "4         79084.10       0  41 to 50      700 to 950  100001 to 200000   \n",
       "\n",
       "  EstimatedSalary_ord  \n",
       "0    100001 to 125000  \n",
       "1    100001 to 125000  \n",
       "2    100001 to 125000  \n",
       "3     75001 to 100000  \n",
       "4     75001 to 100000  "
      ]
     },
     "execution_count": 3,
     "metadata": {},
     "output_type": "execute_result"
    }
   ],
   "source": [
    "df.head()"
   ]
  },
  {
   "cell_type": "markdown",
   "id": "ecb4a5e4",
   "metadata": {},
   "source": [
    "## 4.1 Klassenungleichgewichten\n",
    "- **Die Zielvariable ist unausgeglichen. In dem Datensatz gibt es eine sehr ungleiche Verteilung der Klassen in der Zielspalte. Das könnte die Performance der Modellen beeinflussen.**"
   ]
  },
  {
   "cell_type": "code",
   "execution_count": 5,
   "id": "e6cc96f4",
   "metadata": {},
   "outputs": [
    {
     "data": {
      "text/plain": [
       "<seaborn.axisgrid.FacetGrid at 0x1d4c90a1e40>"
      ]
     },
     "execution_count": 5,
     "metadata": {},
     "output_type": "execute_result"
    },
    {
     "data": {
      "image/png": "[encoded data removed]",
      "text/plain": [
       "<Figure size 360x360 with 1 Axes>"
      ]
     },
     "metadata": {
      "needs_background": "light"
     },
     "output_type": "display_data"
    }
   ],
   "source": [
    "%matplotlib inline\n",
    "sns.catplot(x=\"Exited\",  kind=\"count\", palette=\"Set2\", data= df )"
   ]
  },
  {
   "cell_type": "code",
   "execution_count": 6,
   "id": "9a215673",
   "metadata": {},
   "outputs": [
    {
     "data": {
      "text/plain": [
       "0    7963\n",
       "1    2037\n",
       "Name: Exited, dtype: int64"
      ]
     },
     "execution_count": 6,
     "metadata": {},
     "output_type": "execute_result"
    }
   ],
   "source": [
    "df['Exited'].value_counts()"
   ]
  },
  {
   "cell_type": "markdown",
   "id": "e6387282",
   "metadata": {},
   "source": [
    "## 4.2 Analyse der Spalte Exited"
   ]
  },
  {
   "cell_type": "markdown",
   "id": "8e605ade",
   "metadata": {},
   "source": [
    "#### Männliche Kunden haben mehr Interesse als weibliche Kunden die Bank zu verlassen."
   ]
  },
  {
   "cell_type": "code",
   "execution_count": 8,
   "id": "3b584115",
   "metadata": {},
   "outputs": [
    {
     "data": {
      "text/html": [
       "<div>\n",
       "<style scoped>\n",
       "    .dataframe tbody tr th:only-of-type {\n",
       "        vertical-align: middle;\n",
       "    }\n",
       "\n",
       "    .dataframe tbody tr th {\n",
       "        vertical-align: top;\n",
       "    }\n",
       "\n",
       "    .dataframe thead th {\n",
       "        text-align: right;\n",
       "    }\n",
       "</style>\n",
       "<table border=\"1\" class=\"dataframe\">\n",
       "  <thead>\n",
       "    <tr style=\"text-align: right;\">\n",
       "      <th></th>\n",
       "      <th>Exited</th>\n",
       "    </tr>\n",
       "    <tr>\n",
       "      <th>Gender</th>\n",
       "      <th></th>\n",
       "    </tr>\n",
       "  </thead>\n",
       "  <tbody>\n",
       "    <tr>\n",
       "      <th>0</th>\n",
       "      <td>0.250715</td>\n",
       "    </tr>\n",
       "    <tr>\n",
       "      <th>1</th>\n",
       "      <td>0.164559</td>\n",
       "    </tr>\n",
       "  </tbody>\n",
       "</table>\n",
       "</div>"
      ],
      "text/plain": [
       "          Exited\n",
       "Gender          \n",
       "0       0.250715\n",
       "1       0.164559"
      ]
     },
     "execution_count": 8,
     "metadata": {},
     "output_type": "execute_result"
    }
   ],
   "source": [
    "df[['Gender','Exited']].groupby('Gender').mean()"
   ]
  },
  {
   "cell_type": "markdown",
   "id": "7e4694ec",
   "metadata": {},
   "source": [
    "####  Kunden zwischen 41 und 50 Jahren tendieren die Bank zu verlassen"
   ]
  },
  {
   "cell_type": "code",
   "execution_count": 11,
   "id": "8a82dd74",
   "metadata": {},
   "outputs": [
    {
     "data": {
      "text/html": [
       "<div>\n",
       "<style scoped>\n",
       "    .dataframe tbody tr th:only-of-type {\n",
       "        vertical-align: middle;\n",
       "    }\n",
       "\n",
       "    .dataframe tbody tr th {\n",
       "        vertical-align: top;\n",
       "    }\n",
       "\n",
       "    .dataframe thead th {\n",
       "        text-align: right;\n",
       "    }\n",
       "</style>\n",
       "<table border=\"1\" class=\"dataframe\">\n",
       "  <thead>\n",
       "    <tr style=\"text-align: right;\">\n",
       "      <th></th>\n",
       "      <th>Exited</th>\n",
       "    </tr>\n",
       "    <tr>\n",
       "      <th>Age_ord</th>\n",
       "      <th></th>\n",
       "    </tr>\n",
       "  </thead>\n",
       "  <tbody>\n",
       "    <tr>\n",
       "      <th>18 to 30</th>\n",
       "      <td>0.056180</td>\n",
       "    </tr>\n",
       "    <tr>\n",
       "      <th>31 to 40</th>\n",
       "      <td>0.107583</td>\n",
       "    </tr>\n",
       "    <tr>\n",
       "      <th>41 to 50</th>\n",
       "      <td>0.396535</td>\n",
       "    </tr>\n",
       "    <tr>\n",
       "      <th>51 to 60</th>\n",
       "      <td>0.252212</td>\n",
       "    </tr>\n",
       "    <tr>\n",
       "      <th>61 to 100</th>\n",
       "      <td>0.083333</td>\n",
       "    </tr>\n",
       "  </tbody>\n",
       "</table>\n",
       "</div>"
      ],
      "text/plain": [
       "             Exited\n",
       "Age_ord            \n",
       "18 to 30   0.056180\n",
       "31 to 40   0.107583\n",
       "41 to 50   0.396535\n",
       "51 to 60   0.252212\n",
       "61 to 100  0.083333"
      ]
     },
     "execution_count": 11,
     "metadata": {},
     "output_type": "execute_result"
    }
   ],
   "source": [
    "df[['Age_ord','Exited']].groupby('Age_ord').mean()"
   ]
  },
  {
   "cell_type": "markdown",
   "id": "09d6a68c",
   "metadata": {},
   "source": [
    "#### Aktive Kunden  tendieren bei der Bank zu bleiben."
   ]
  },
  {
   "cell_type": "code",
   "execution_count": 12,
   "id": "cdd3499b",
   "metadata": {},
   "outputs": [
    {
     "data": {
      "text/html": [
       "<div>\n",
       "<style scoped>\n",
       "    .dataframe tbody tr th:only-of-type {\n",
       "        vertical-align: middle;\n",
       "    }\n",
       "\n",
       "    .dataframe tbody tr th {\n",
       "        vertical-align: top;\n",
       "    }\n",
       "\n",
       "    .dataframe thead th {\n",
       "        text-align: right;\n",
       "    }\n",
       "</style>\n",
       "<table border=\"1\" class=\"dataframe\">\n",
       "  <thead>\n",
       "    <tr style=\"text-align: right;\">\n",
       "      <th></th>\n",
       "      <th>Exited</th>\n",
       "    </tr>\n",
       "    <tr>\n",
       "      <th>IsActiveMember</th>\n",
       "      <th></th>\n",
       "    </tr>\n",
       "  </thead>\n",
       "  <tbody>\n",
       "    <tr>\n",
       "      <th>0</th>\n",
       "      <td>0.268509</td>\n",
       "    </tr>\n",
       "    <tr>\n",
       "      <th>1</th>\n",
       "      <td>0.142691</td>\n",
       "    </tr>\n",
       "  </tbody>\n",
       "</table>\n",
       "</div>"
      ],
      "text/plain": [
       "                  Exited\n",
       "IsActiveMember          \n",
       "0               0.268509\n",
       "1               0.142691"
      ]
     },
     "execution_count": 12,
     "metadata": {},
     "output_type": "execute_result"
    }
   ],
   "source": [
    "df[['IsActiveMember','Exited']].groupby('IsActiveMember').mean()"
   ]
  },
  {
   "cell_type": "markdown",
   "id": "60b8a832",
   "metadata": {},
   "source": [
    "- **Kunden mit einem Balancescore zwischen 200001 und 250900 haben die Wahrscheinlichkeit von 0.558, die Bank zu verlassen.**"
   ]
  },
  {
   "cell_type": "code",
   "execution_count": 9,
   "id": "47bd4f1d",
   "metadata": {},
   "outputs": [
    {
     "data": {
      "text/html": [
       "<div>\n",
       "<style scoped>\n",
       "    .dataframe tbody tr th:only-of-type {\n",
       "        vertical-align: middle;\n",
       "    }\n",
       "\n",
       "    .dataframe tbody tr th {\n",
       "        vertical-align: top;\n",
       "    }\n",
       "\n",
       "    .dataframe thead th {\n",
       "        text-align: right;\n",
       "    }\n",
       "</style>\n",
       "<table border=\"1\" class=\"dataframe\">\n",
       "  <thead>\n",
       "    <tr style=\"text-align: right;\">\n",
       "      <th></th>\n",
       "      <th>Exited</th>\n",
       "    </tr>\n",
       "    <tr>\n",
       "      <th>Balance_ord</th>\n",
       "      <th></th>\n",
       "    </tr>\n",
       "  </thead>\n",
       "  <tbody>\n",
       "    <tr>\n",
       "      <th>0 to 25000</th>\n",
       "      <td>0.139111</td>\n",
       "    </tr>\n",
       "    <tr>\n",
       "      <th>25001 to 50000</th>\n",
       "      <td>0.318841</td>\n",
       "    </tr>\n",
       "    <tr>\n",
       "      <th>50001 to 100000</th>\n",
       "      <td>0.198807</td>\n",
       "    </tr>\n",
       "    <tr>\n",
       "      <th>100001 to 200000</th>\n",
       "      <td>0.250157</td>\n",
       "    </tr>\n",
       "    <tr>\n",
       "      <th>200001 to 250900</th>\n",
       "      <td>0.558824</td>\n",
       "    </tr>\n",
       "  </tbody>\n",
       "</table>\n",
       "</div>"
      ],
      "text/plain": [
       "                    Exited\n",
       "Balance_ord               \n",
       "0 to 25000        0.139111\n",
       "25001 to 50000    0.318841\n",
       "50001 to 100000   0.198807\n",
       "100001 to 200000  0.250157\n",
       "200001 to 250900  0.558824"
      ]
     },
     "execution_count": 9,
     "metadata": {},
     "output_type": "execute_result"
    }
   ],
   "source": [
    "df[['Balance_ord','Exited']].groupby('Balance_ord').mean()"
   ]
  },
  {
   "cell_type": "markdown",
   "id": "5311d2fc",
   "metadata": {},
   "source": [
    "- **Kunden aus Spanien zeigen mehr Interesse bei der Bank zu bleiben**"
   ]
  },
  {
   "cell_type": "code",
   "execution_count": 10,
   "id": "42100a13",
   "metadata": {},
   "outputs": [
    {
     "data": {
      "text/html": [
       "<div>\n",
       "<style scoped>\n",
       "    .dataframe tbody tr th:only-of-type {\n",
       "        vertical-align: middle;\n",
       "    }\n",
       "\n",
       "    .dataframe tbody tr th {\n",
       "        vertical-align: top;\n",
       "    }\n",
       "\n",
       "    .dataframe thead th {\n",
       "        text-align: right;\n",
       "    }\n",
       "</style>\n",
       "<table border=\"1\" class=\"dataframe\">\n",
       "  <thead>\n",
       "    <tr style=\"text-align: right;\">\n",
       "      <th></th>\n",
       "      <th>Exited</th>\n",
       "    </tr>\n",
       "    <tr>\n",
       "      <th>Geography</th>\n",
       "      <th></th>\n",
       "    </tr>\n",
       "  </thead>\n",
       "  <tbody>\n",
       "    <tr>\n",
       "      <th>0</th>\n",
       "      <td>0.166734</td>\n",
       "    </tr>\n",
       "    <tr>\n",
       "      <th>1</th>\n",
       "      <td>0.161548</td>\n",
       "    </tr>\n",
       "    <tr>\n",
       "      <th>2</th>\n",
       "      <td>0.324432</td>\n",
       "    </tr>\n",
       "  </tbody>\n",
       "</table>\n",
       "</div>"
      ],
      "text/plain": [
       "             Exited\n",
       "Geography          \n",
       "0          0.166734\n",
       "1          0.161548\n",
       "2          0.324432"
      ]
     },
     "execution_count": 10,
     "metadata": {},
     "output_type": "execute_result"
    }
   ],
   "source": [
    "df[['Geography','Exited']].groupby('Geography').mean()"
   ]
  },
  {
   "cell_type": "markdown",
   "id": "c7f5b423",
   "metadata": {},
   "source": [
    "- **Kunden, die 3 oder 4 Produkte der Bank haben, verlassen öfter die Bank.**"
   ]
  },
  {
   "cell_type": "code",
   "execution_count": 11,
   "id": "87d5f57d",
   "metadata": {},
   "outputs": [
    {
     "data": {
      "text/html": [
       "<div>\n",
       "<style scoped>\n",
       "    .dataframe tbody tr th:only-of-type {\n",
       "        vertical-align: middle;\n",
       "    }\n",
       "\n",
       "    .dataframe tbody tr th {\n",
       "        vertical-align: top;\n",
       "    }\n",
       "\n",
       "    .dataframe thead th {\n",
       "        text-align: right;\n",
       "    }\n",
       "</style>\n",
       "<table border=\"1\" class=\"dataframe\">\n",
       "  <thead>\n",
       "    <tr style=\"text-align: right;\">\n",
       "      <th></th>\n",
       "      <th>Exited</th>\n",
       "    </tr>\n",
       "    <tr>\n",
       "      <th>NumOfProducts</th>\n",
       "      <th></th>\n",
       "    </tr>\n",
       "  </thead>\n",
       "  <tbody>\n",
       "    <tr>\n",
       "      <th>1</th>\n",
       "      <td>0.277144</td>\n",
       "    </tr>\n",
       "    <tr>\n",
       "      <th>2</th>\n",
       "      <td>0.075817</td>\n",
       "    </tr>\n",
       "    <tr>\n",
       "      <th>3</th>\n",
       "      <td>0.827068</td>\n",
       "    </tr>\n",
       "    <tr>\n",
       "      <th>4</th>\n",
       "      <td>1.000000</td>\n",
       "    </tr>\n",
       "  </tbody>\n",
       "</table>\n",
       "</div>"
      ],
      "text/plain": [
       "                 Exited\n",
       "NumOfProducts          \n",
       "1              0.277144\n",
       "2              0.075817\n",
       "3              0.827068\n",
       "4              1.000000"
      ]
     },
     "execution_count": 11,
     "metadata": {},
     "output_type": "execute_result"
    }
   ],
   "source": [
    "df[['NumOfProducts','Exited']].groupby('NumOfProducts').mean()"
   ]
  },
  {
   "cell_type": "markdown",
   "id": "68bdadc9",
   "metadata": {},
   "source": [
    "## 4.3 Analyse der Spalte outliers.\n",
    "- **Beim Datensammeln wurde die Datei gelesen und untersucht. Es wurden outliers in den Spalten Age und CreditScore indentifiziert**\n"
   ]
  },
  {
   "cell_type": "code",
   "execution_count": 12,
   "id": "8ab50789",
   "metadata": {},
   "outputs": [
    {
     "data": {
      "text/plain": [
       "<AxesSubplot:xlabel='Age'>"
      ]
     },
     "execution_count": 12,
     "metadata": {},
     "output_type": "execute_result"
    },
    {
     "data": {
      "image/png": "[encoded data removed]",
      "text/plain": [
       "<Figure size 432x288 with 1 Axes>"
      ]
     },
     "metadata": {
      "needs_background": "light"
     },
     "output_type": "display_data"
    }
   ],
   "source": [
    "%matplotlib inline\n",
    "sns.boxplot(df.Age)"
   ]
  },
  {
   "cell_type": "code",
   "execution_count": 13,
   "id": "8b8b46aa",
   "metadata": {},
   "outputs": [
    {
     "data": {
      "text/plain": [
       "<AxesSubplot:xlabel='CreditScore'>"
      ]
     },
     "execution_count": 13,
     "metadata": {},
     "output_type": "execute_result"
    },
    {
     "data": {
      "image/png": "[encoded data removed]",
      "text/plain": [
       "<Figure size 432x288 with 1 Axes>"
      ]
     },
     "metadata": {
      "needs_background": "light"
     },
     "output_type": "display_data"
    }
   ],
   "source": [
    "%matplotlib inline\n",
    "sns.boxplot(df.CreditScore)\n"
   ]
  },
  {
   "cell_type": "markdown",
   "id": "8815b017",
   "metadata": {},
   "source": [
    "## 4.4 Interesse für die Spalte Gender\n"
   ]
  },
  {
   "cell_type": "markdown",
   "id": "a62c8cb3",
   "metadata": {},
   "source": [
    "- **Weibliche Kunden haben die Tendenz bei der Bank zu bleiben.**"
   ]
  },
  {
   "cell_type": "code",
   "execution_count": 14,
   "id": "14529adb",
   "metadata": {},
   "outputs": [
    {
     "data": {
      "text/plain": [
       "<seaborn.axisgrid.FacetGrid at 0x1d4db1439a0>"
      ]
     },
     "execution_count": 14,
     "metadata": {},
     "output_type": "execute_result"
    },
    {
     "data": {
      "image/png": "[encoded data removed]",
      "text/plain": [
       "<Figure size 402.375x360 with 1 Axes>"
      ]
     },
     "metadata": {
      "needs_background": "light"
     },
     "output_type": "display_data"
    }
   ],
   "source": [
    "# male : 0 Female : 1\n",
    "sns.catplot(x=\"Gender\", kind=\"count\", palette=\"Set2\", data= df, hue = \"Exited\" )"
   ]
  },
  {
   "cell_type": "markdown",
   "id": "b3cdfcb4",
   "metadata": {},
   "source": [
    "- **Die meisten Kunden kommen aus Spanien und sind weiblich.**"
   ]
  },
  {
   "cell_type": "code",
   "execution_count": 15,
   "id": "7c9c8dde",
   "metadata": {},
   "outputs": [
    {
     "data": {
      "text/plain": [
       "<seaborn.axisgrid.FacetGrid at 0x1d4d8c9ad10>"
      ]
     },
     "execution_count": 15,
     "metadata": {},
     "output_type": "execute_result"
    },
    {
     "data": {
      "image/png": "[encoded data removed]",
      "text/plain": [
       "<Figure size 423x360 with 1 Axes>"
      ]
     },
     "metadata": {
      "needs_background": "light"
     },
     "output_type": "display_data"
    }
   ],
   "source": [
    "# male : 0 Female 1\n",
    "# Geography Franca : 0 Espanha :1 Alemanha 2 \n",
    "sns.catplot(x=\"Gender\", kind=\"count\", palette=\"Set2\", data= df, hue = \"Geography\" )"
   ]
  },
  {
   "cell_type": "markdown",
   "id": "9a5fb79e",
   "metadata": {},
   "source": [
    "- **Die meinsten weibliche und männliche Kunden haben entweder 1 oder 2 Produkte**"
   ]
  },
  {
   "cell_type": "code",
   "execution_count": 16,
   "id": "008a8b98",
   "metadata": {},
   "outputs": [
    {
     "data": {
      "text/plain": [
       "<seaborn.axisgrid.FacetGrid at 0x1d4db1be8c0>"
      ]
     },
     "execution_count": 16,
     "metadata": {},
     "output_type": "execute_result"
    },
    {
     "data": {
      "image/png": "[encoded data removed]",
      "text/plain": [
       "<Figure size 446x360 with 1 Axes>"
      ]
     },
     "metadata": {
      "needs_background": "light"
     },
     "output_type": "display_data"
    }
   ],
   "source": [
    "# 'Female': 0, 'Male': 1\n",
    "sns.catplot(x=\"Gender\", kind=\"count\", palette=\"Set2\", data= df, hue = \"NumOfProducts\" )"
   ]
  },
  {
   "cell_type": "markdown",
   "id": "9bef6424",
   "metadata": {},
   "source": [
    "- **Die meisten Kunden haben eine Karte**"
   ]
  },
  {
   "cell_type": "code",
   "execution_count": 17,
   "id": "27f4d2ac",
   "metadata": {},
   "outputs": [
    {
     "data": {
      "text/plain": [
       "<seaborn.axisgrid.FacetGrid at 0x1d4db40ebf0>"
      ]
     },
     "execution_count": 17,
     "metadata": {},
     "output_type": "execute_result"
    },
    {
     "data": {
      "image/png": "[encoded data removed]",
      "text/plain": [
       "<Figure size 421.25x360 with 1 Axes>"
      ]
     },
     "metadata": {
      "needs_background": "light"
     },
     "output_type": "display_data"
    }
   ],
   "source": [
    "sns.catplot(x=\"Gender\", kind=\"count\", palette=\"Set2\", data= df, hue = \"HasCrCard\" )"
   ]
  },
  {
   "cell_type": "markdown",
   "id": "a3630d66",
   "metadata": {},
   "source": [
    "- **Weibliche Kunden haben die Tendenz bei der Bank aktiv zu werden.**"
   ]
  },
  {
   "cell_type": "code",
   "execution_count": 19,
   "id": "8978eac3",
   "metadata": {},
   "outputs": [
    {
     "data": {
      "text/plain": [
       "<seaborn.axisgrid.FacetGrid at 0x1d4db40ec50>"
      ]
     },
     "execution_count": 19,
     "metadata": {},
     "output_type": "execute_result"
    },
    {
     "data": {
      "image/png": "[encoded data removed]",
      "text/plain": [
       "<Figure size 448x360 with 1 Axes>"
      ]
     },
     "metadata": {
      "needs_background": "light"
     },
     "output_type": "display_data"
    }
   ],
   "source": [
    "sns.catplot(x=\"Gender\", kind=\"count\",  palette=\"Set2\",  data= df,  hue = \"IsActiveMember\" )\n"
   ]
  },
  {
   "cell_type": "markdown",
   "id": "db484885",
   "metadata": {},
   "source": [
    "- **Die meisten Kunden sind seit 5 Jahren bei der Bank**"
   ]
  },
  {
   "cell_type": "code",
   "execution_count": 20,
   "id": "08d56fa3",
   "metadata": {},
   "outputs": [
    {
     "data": {
      "image/png": "[encoded data removed]",
      "text/plain": [
       "<Figure size 360x360 with 1 Axes>"
      ]
     },
     "metadata": {
      "needs_background": "light"
     },
     "output_type": "display_data"
    }
   ],
   "source": [
    "sns.catplot(x=\"Gender\",  y=\"Tenure\",  kind=\"box\", data=df);"
   ]
  },
  {
   "cell_type": "markdown",
   "id": "74bc2cab",
   "metadata": {},
   "source": [
    "- **25% der männlichen Kunden verlassen die Bank**\n",
    "- **16% der weiblichen Kunden verlassen die Bank**"
   ]
  },
  {
   "cell_type": "code",
   "execution_count": 21,
   "id": "91c3e0a9",
   "metadata": {},
   "outputs": [
    {
     "data": {
      "text/html": [
       "<div>\n",
       "<style scoped>\n",
       "    .dataframe tbody tr th:only-of-type {\n",
       "        vertical-align: middle;\n",
       "    }\n",
       "\n",
       "    .dataframe tbody tr th {\n",
       "        vertical-align: top;\n",
       "    }\n",
       "\n",
       "    .dataframe thead th {\n",
       "        text-align: right;\n",
       "    }\n",
       "</style>\n",
       "<table border=\"1\" class=\"dataframe\">\n",
       "  <thead>\n",
       "    <tr style=\"text-align: right;\">\n",
       "      <th></th>\n",
       "      <th>Total Male</th>\n",
       "      <th>Total Female</th>\n",
       "      <th>Total Male ohne Interesse %</th>\n",
       "      <th>Total Famale ohne interesse %</th>\n",
       "    </tr>\n",
       "  </thead>\n",
       "  <tbody>\n",
       "    <tr>\n",
       "      <th>0</th>\n",
       "      <td>5457</td>\n",
       "      <td>4543</td>\n",
       "      <td>25.071539</td>\n",
       "      <td>16.455928</td>\n",
       "    </tr>\n",
       "  </tbody>\n",
       "</table>\n",
       "</div>"
      ],
      "text/plain": [
       "   Total Male  Total Female  Total Male ohne Interesse %  \\\n",
       "0        5457          4543                    25.071539   \n",
       "\n",
       "   Total Famale ohne interesse %  \n",
       "0                      16.455928  "
      ]
     },
     "execution_count": 21,
     "metadata": {},
     "output_type": "execute_result"
    }
   ],
   "source": [
    "from IPython.display import display\n",
    "import pandas as pd\n",
    "  \n",
    "# creating a DataFrame\n",
    "dict = {'Total Male' : [(df['Gender']== 1).sum()],\n",
    "        'Total Female' :[ (df['Gender']== 0).sum()],\n",
    "        'Total Male ohne Interesse %':[((df['Gender'] == 0) & (df['Exited']==1)).sum() / \n",
    "                                       (df['Gender'] == 0).sum()*100],\n",
    "        'Total Famale ohne interesse %':[((df['Gender'] == 1) & (df['Exited']==1)).sum() / \n",
    "                                         (df['Gender'] == 1).sum()*100]\n",
    "         }\n",
    "\n",
    "\n",
    "\n",
    "dataframe = pd.DataFrame(dict)\n",
    "  \n",
    "# displaying the DataFrame\n",
    "#display(dataframe)\n",
    "\n",
    "\n",
    "\n",
    "dataframe"
   ]
  },
  {
   "cell_type": "markdown",
   "id": "149e905b",
   "metadata": {},
   "source": [
    "## 4.5 Interesse für Age\n",
    "\n"
   ]
  },
  {
   "cell_type": "markdown",
   "id": "2ce75f9d",
   "metadata": {},
   "source": [
    "- **Die meisten Kunden sind zwischen 41 und 50 Jahren und haben eine leichte Tendenz die Bank zu verlassen.**"
   ]
  },
  {
   "cell_type": "code",
   "execution_count": 116,
   "id": "59b87d8a",
   "metadata": {},
   "outputs": [
    {
     "data": {
      "text/plain": [
       "<seaborn.axisgrid.FacetGrid at 0x1d4dffc9630>"
      ]
     },
     "execution_count": 116,
     "metadata": {},
     "output_type": "execute_result"
    },
    {
     "data": {
      "image/png": "[encoded data removed]",
      "text/plain": [
       "<Figure size 402.375x360 with 1 Axes>"
      ]
     },
     "metadata": {
      "needs_background": "light"
     },
     "output_type": "display_data"
    }
   ],
   "source": [
    "sns.catplot(x=\"Age_ord\", kind=\"count\",  palette=\"Set2\", data= df,  hue = \"Exited\" )"
   ]
  },
  {
   "cell_type": "markdown",
   "id": "e3cf59fb",
   "metadata": {},
   "source": [
    "- **Kunden zwischen 31-40 jahren haben eine CreditScore_ord von 501 zu 699**"
   ]
  },
  {
   "cell_type": "code",
   "execution_count": 180,
   "id": "ffb7db70",
   "metadata": {},
   "outputs": [
    {
     "data": {
      "text/plain": [
       "<seaborn.axisgrid.FacetGrid at 0x1a76ca2c820>"
      ]
     },
     "execution_count": 180,
     "metadata": {},
     "output_type": "execute_result"
    },
    {
     "data": {
      "image/png": "[encoded data removed]",
      "text/plain": [
       "<Figure size 450.375x360 with 1 Axes>"
      ]
     },
     "metadata": {
      "needs_background": "light"
     },
     "output_type": "display_data"
    }
   ],
   "source": [
    "sns.catplot(x=\"Age_ord\", kind=\"count\", palette=\"Set2\", data= df, hue = \"CreditScore_ord\" )"
   ]
  },
  {
   "cell_type": "markdown",
   "id": "30466c54",
   "metadata": {},
   "source": [
    "- **Die meisten Kunden sind zwischen 31-40 Jahren**"
   ]
  },
  {
   "cell_type": "code",
   "execution_count": 26,
   "id": "064fadac",
   "metadata": {},
   "outputs": [
    {
     "data": {
      "text/plain": [
       "<seaborn.axisgrid.FacetGrid at 0x1d4db55b400>"
      ]
     },
     "execution_count": 26,
     "metadata": {},
     "output_type": "execute_result"
    },
    {
     "data": {
      "image/png": "[encoded data removed]",
      "text/plain": [
       "<Figure size 360x360 with 1 Axes>"
      ]
     },
     "metadata": {
      "needs_background": "light"
     },
     "output_type": "display_data"
    }
   ],
   "source": [
    "# alter mit Age-ord\n",
    "import seaborn as sns\n",
    "%matplotlib inline\n",
    "sns.catplot(x=\"Age_ord\",  kind=\"count\",  palette=\"Set2\",  data= df )"
   ]
  },
  {
   "cell_type": "markdown",
   "id": "d8695214",
   "metadata": {},
   "source": [
    "## 4.6 Interesse für Gehalt\n",
    "- **Die Kunden haben ein EstimatedSalary in Höhe von 10.000 Dolar**\n"
   ]
  },
  {
   "cell_type": "code",
   "execution_count": 184,
   "id": "cf44bcbc",
   "metadata": {},
   "outputs": [
    {
     "data": {
      "text/plain": [
       "<seaborn.axisgrid.FacetGrid at 0x1a76cab78b0>"
      ]
     },
     "execution_count": 184,
     "metadata": {},
     "output_type": "execute_result"
    },
    {
     "data": {
      "image/png": "[encoded data removed]",
      "text/plain": [
       "<Figure size 360x360 with 1 Axes>"
      ]
     },
     "metadata": {
      "needs_background": "light"
     },
     "output_type": "display_data"
    }
   ],
   "source": [
    "sns.catplot(x=\"Exited\", kind=\"box\", palette=\"Set2\", data= df, y= \"EstimatedSalary\" )"
   ]
  },
  {
   "cell_type": "markdown",
   "id": "e064b62c",
   "metadata": {},
   "source": [
    "## 4.7 Interesse für Land\n"
   ]
  },
  {
   "cell_type": "markdown",
   "id": "82a8764d",
   "metadata": {},
   "source": [
    "- **5014 Kunden kommen aus Spanien und 4204 wollen bei der Bank bleiben**\n",
    "- **2740 Kunden kommen aus Frankreich und 2064 wollen bei der Bank bleiben**\n",
    "- **2509 Kunden kommen aus Deutschland und 1695 wollen bei der Bank bleiben**"
   ]
  },
  {
   "cell_type": "code",
   "execution_count": 60,
   "id": "5d89e730",
   "metadata": {},
   "outputs": [
    {
     "data": {
      "text/plain": [
       "<seaborn.axisgrid.FacetGrid at 0x1d4dcb6bca0>"
      ]
     },
     "execution_count": 60,
     "metadata": {},
     "output_type": "execute_result"
    },
    {
     "data": {
      "image/png": "[encoded data removed]",
      "text/plain": [
       "<Figure size 402.375x360 with 1 Axes>"
      ]
     },
     "metadata": {
      "needs_background": "light"
     },
     "output_type": "display_data"
    }
   ],
   "source": [
    "# Geography Franca : 0 Espanha :1 Alemanha 2 \n",
    "sns.catplot(x=\"Geography\", kind=\"count\",  palette=\"Set2\", data= df, hue = \"Exited\" )\n"
   ]
  },
  {
   "cell_type": "code",
   "execution_count": 61,
   "id": "bd2e9f39",
   "metadata": {},
   "outputs": [],
   "source": [
    "df2 =df.groupby([\"Geography\"])['Exited'].count().to_frame().rename(columns={'id':'contador'}).reset_index()"
   ]
  },
  {
   "cell_type": "code",
   "execution_count": 62,
   "id": "3761f3a8",
   "metadata": {},
   "outputs": [
    {
     "data": {
      "text/html": [
       "<div>\n",
       "<style scoped>\n",
       "    .dataframe tbody tr th:only-of-type {\n",
       "        vertical-align: middle;\n",
       "    }\n",
       "\n",
       "    .dataframe tbody tr th {\n",
       "        vertical-align: top;\n",
       "    }\n",
       "\n",
       "    .dataframe thead th {\n",
       "        text-align: right;\n",
       "    }\n",
       "</style>\n",
       "<table border=\"1\" class=\"dataframe\">\n",
       "  <thead>\n",
       "    <tr style=\"text-align: right;\">\n",
       "      <th></th>\n",
       "      <th>Geography</th>\n",
       "      <th>Exited</th>\n",
       "    </tr>\n",
       "  </thead>\n",
       "  <tbody>\n",
       "    <tr>\n",
       "      <th>0</th>\n",
       "      <td>0</td>\n",
       "      <td>2477</td>\n",
       "    </tr>\n",
       "    <tr>\n",
       "      <th>1</th>\n",
       "      <td>1</td>\n",
       "      <td>5014</td>\n",
       "    </tr>\n",
       "    <tr>\n",
       "      <th>2</th>\n",
       "      <td>2</td>\n",
       "      <td>2509</td>\n",
       "    </tr>\n",
       "  </tbody>\n",
       "</table>\n",
       "</div>"
      ],
      "text/plain": [
       "   Geography  Exited\n",
       "0          0    2477\n",
       "1          1    5014\n",
       "2          2    2509"
      ]
     },
     "execution_count": 62,
     "metadata": {},
     "output_type": "execute_result"
    }
   ],
   "source": [
    "df2.head()"
   ]
  },
  {
   "cell_type": "code",
   "execution_count": 63,
   "id": "a9a1999e",
   "metadata": {},
   "outputs": [
    {
     "name": "stdout",
     "output_type": "stream",
     "text": [
      "   Geography  Exited  counts\n",
      "0          0       0    2064\n",
      "1          0       1     413\n",
      "2          1       0    4204\n",
      "3          1       1     810\n",
      "4          2       0    1695\n",
      "5          2       1     814\n"
     ]
    }
   ],
   "source": [
    "group=df.groupby([\"Geography\",'Exited'])\n",
    "print(group.size().reset_index(name='counts'))"
   ]
  },
  {
   "cell_type": "raw",
   "id": "b8990a11",
   "metadata": {},
   "source": [
    "- **83,84% der Kunden aus Spanien wollen bei der Bank bleiben**"
   ]
  },
  {
   "cell_type": "code",
   "execution_count": 64,
   "id": "028a97a2",
   "metadata": {},
   "outputs": [
    {
     "data": {
      "text/plain": [
       "0.8384523334662943"
      ]
     },
     "execution_count": 64,
     "metadata": {},
     "output_type": "execute_result"
    }
   ],
   "source": [
    "# 83,84% haben interesse für die Bank Spain :1\n",
    "((df[\"Geography\"]==1)&(df['Exited']==0)).sum()/5014"
   ]
  },
  {
   "cell_type": "markdown",
   "id": "36abeeff",
   "metadata": {},
   "source": [
    "- **Die Spanier sind die aktivsten Kunden**"
   ]
  },
  {
   "cell_type": "code",
   "execution_count": 65,
   "id": "53151f2b",
   "metadata": {},
   "outputs": [
    {
     "data": {
      "text/plain": [
       "<seaborn.axisgrid.FacetGrid at 0x1d4dcb42140>"
      ]
     },
     "execution_count": 65,
     "metadata": {},
     "output_type": "execute_result"
    },
    {
     "data": {
      "image/png": "[encoded data removed]",
      "text/plain": [
       "<Figure size 448x360 with 1 Axes>"
      ]
     },
     "metadata": {
      "needs_background": "light"
     },
     "output_type": "display_data"
    }
   ],
   "source": [
    "sns.catplot(x=\"Geography\", kind=\"count\", palette=\"Set2\", data= df, hue = \"IsActiveMember\" )"
   ]
  },
  {
   "cell_type": "markdown",
   "id": "4791f067",
   "metadata": {},
   "source": [
    "- **Die meisten Kunden haben eine Bankkarte**"
   ]
  },
  {
   "cell_type": "code",
   "execution_count": 108,
   "id": "34141b4d",
   "metadata": {},
   "outputs": [
    {
     "data": {
      "text/plain": [
       "<AxesSubplot:xlabel='HasCrCard', ylabel='count'>"
      ]
     },
     "execution_count": 108,
     "metadata": {},
     "output_type": "execute_result"
    },
    {
     "data": {
      "image/png": "[encoded data removed]",
      "text/plain": [
       "<Figure size 432x288 with 1 Axes>"
      ]
     },
     "metadata": {
      "needs_background": "light"
     },
     "output_type": "display_data"
    }
   ],
   "source": [
    "sns.countplot(x=\"HasCrCard\",data=df)"
   ]
  },
  {
   "cell_type": "markdown",
   "id": "817c9919",
   "metadata": {},
   "source": [
    "- **Kunden, die eine Kreditkarte benutzen, bleiben meistens bei der Bank**"
   ]
  },
  {
   "cell_type": "code",
   "execution_count": 109,
   "id": "ea23eaed",
   "metadata": {},
   "outputs": [
    {
     "data": {
      "text/plain": [
       "<seaborn.axisgrid.FacetGrid at 0x1d4dfe24760>"
      ]
     },
     "execution_count": 109,
     "metadata": {},
     "output_type": "execute_result"
    },
    {
     "data": {
      "image/png": "[encoded data removed]",
      "text/plain": [
       "<Figure size 402.375x360 with 1 Axes>"
      ]
     },
     "metadata": {
      "needs_background": "light"
     },
     "output_type": "display_data"
    }
   ],
   "source": [
    "sns.catplot(x=\"HasCrCard\", kind=\"count\", palette=\"Set2\", data= df, hue = \"Exited\" )"
   ]
  },
  {
   "cell_type": "markdown",
   "id": "13bc0c92",
   "metadata": {},
   "source": [
    "- **Kunden aus Spanien benutzen am meinsten eine Kreditkarte.**"
   ]
  },
  {
   "cell_type": "code",
   "execution_count": 110,
   "id": "cdae19e3",
   "metadata": {},
   "outputs": [
    {
     "data": {
      "text/plain": [
       "<seaborn.axisgrid.FacetGrid at 0x1d4dc349450>"
      ]
     },
     "execution_count": 110,
     "metadata": {},
     "output_type": "execute_result"
    },
    {
     "data": {
      "image/png": "[encoded data removed]",
      "text/plain": [
       "<Figure size 423x360 with 1 Axes>"
      ]
     },
     "metadata": {
      "needs_background": "light"
     },
     "output_type": "display_data"
    }
   ],
   "source": [
    "sns.catplot(x=\"HasCrCard\", kind=\"count\", palette=\"Set2\", data= df, hue = \"Geography\" )"
   ]
  },
  {
   "cell_type": "markdown",
   "id": "1f9660a2",
   "metadata": {},
   "source": [
    "## 4.8 Interesse für Korrelation\n",
    "- **Es gibt eine Korrelation zwischen Banlace und Geography von 0.33**\n"
   ]
  },
  {
   "cell_type": "code",
   "execution_count": 111,
   "id": "43dea2d2",
   "metadata": {},
   "outputs": [
    {
     "data": {
      "text/plain": [
       "<AxesSubplot:>"
      ]
     },
     "execution_count": 111,
     "metadata": {},
     "output_type": "execute_result"
    },
    {
     "data": {
      "image/png": "[encoded data removed]",
      "text/plain": [
       "<Figure size 1080x576 with 2 Axes>"
      ]
     },
     "metadata": {
      "needs_background": "light"
     },
     "output_type": "display_data"
    }
   ],
   "source": [
    "plt.figure(figsize = (15,8))\n",
    "sns.heatmap(df3.corr(),cmap='coolwarm',annot=True)\n"
   ]
  },
  {
   "cell_type": "markdown",
   "id": "69602986",
   "metadata": {},
   "source": [
    "## 4.9 Statistiken nach Gruppen auswerten"
   ]
  },
  {
   "cell_type": "markdown",
   "id": "26203f85",
   "metadata": {},
   "source": [
    "- **Kunden aus Deutschland mit 3 Produkten oder mehr verlassen die Bank mit einer grosser Wahrscheinlichkeit** "
   ]
  },
  {
   "cell_type": "code",
   "execution_count": 112,
   "id": "b162de27",
   "metadata": {},
   "outputs": [
    {
     "data": {
      "text/html": [
       "<div>\n",
       "<style scoped>\n",
       "    .dataframe tbody tr th:only-of-type {\n",
       "        vertical-align: middle;\n",
       "    }\n",
       "\n",
       "    .dataframe tbody tr th {\n",
       "        vertical-align: top;\n",
       "    }\n",
       "\n",
       "    .dataframe thead th {\n",
       "        text-align: right;\n",
       "    }\n",
       "</style>\n",
       "<table border=\"1\" class=\"dataframe\">\n",
       "  <thead>\n",
       "    <tr style=\"text-align: right;\">\n",
       "      <th>NumOfProducts</th>\n",
       "      <th>1</th>\n",
       "      <th>2</th>\n",
       "      <th>3</th>\n",
       "      <th>4</th>\n",
       "    </tr>\n",
       "    <tr>\n",
       "      <th>Geography</th>\n",
       "      <th></th>\n",
       "      <th></th>\n",
       "      <th></th>\n",
       "      <th></th>\n",
       "    </tr>\n",
       "  </thead>\n",
       "  <tbody>\n",
       "    <tr>\n",
       "      <th>0</th>\n",
       "      <td>0.218673</td>\n",
       "      <td>0.073542</td>\n",
       "      <td>0.787879</td>\n",
       "      <td>1.0</td>\n",
       "    </tr>\n",
       "    <tr>\n",
       "      <th>1</th>\n",
       "      <td>0.224344</td>\n",
       "      <td>0.057034</td>\n",
       "      <td>0.788462</td>\n",
       "      <td>1.0</td>\n",
       "    </tr>\n",
       "    <tr>\n",
       "      <th>2</th>\n",
       "      <td>0.428466</td>\n",
       "      <td>0.121154</td>\n",
       "      <td>0.895833</td>\n",
       "      <td>1.0</td>\n",
       "    </tr>\n",
       "  </tbody>\n",
       "</table>\n",
       "</div>"
      ],
      "text/plain": [
       "NumOfProducts         1         2         3    4\n",
       "Geography                                       \n",
       "0              0.218673  0.073542  0.787879  1.0\n",
       "1              0.224344  0.057034  0.788462  1.0\n",
       "2              0.428466  0.121154  0.895833  1.0"
      ]
     },
     "execution_count": 112,
     "metadata": {},
     "output_type": "execute_result"
    }
   ],
   "source": [
    "pd.pivot_table(df, values='Exited', index=['Geography'], columns=['NumOfProducts'], aggfunc=np.mean)"
   ]
  },
  {
   "cell_type": "markdown",
   "id": "051510eb",
   "metadata": {},
   "source": [
    "- **Kunden mit eine Balance_ord 200001 zu 250900 und eine Gehalt über 125000 haben eine große Wahrscheinlichkeit die Bank zu verlassen**"
   ]
  },
  {
   "cell_type": "code",
   "execution_count": 113,
   "id": "ac94322a",
   "metadata": {},
   "outputs": [
    {
     "data": {
      "text/html": [
       "<div>\n",
       "<style scoped>\n",
       "    .dataframe tbody tr th:only-of-type {\n",
       "        vertical-align: middle;\n",
       "    }\n",
       "\n",
       "    .dataframe tbody tr th {\n",
       "        vertical-align: top;\n",
       "    }\n",
       "\n",
       "    .dataframe thead th {\n",
       "        text-align: right;\n",
       "    }\n",
       "</style>\n",
       "<table border=\"1\" class=\"dataframe\">\n",
       "  <thead>\n",
       "    <tr style=\"text-align: right;\">\n",
       "      <th>EstimatedSalary_ord</th>\n",
       "      <th>0 to 25000</th>\n",
       "      <th>25001 to 50000</th>\n",
       "      <th>50001 to 75000</th>\n",
       "      <th>75001 to 100000</th>\n",
       "      <th>100001 to 125000</th>\n",
       "      <th>125001 to 150000</th>\n",
       "      <th>150001 to 175000</th>\n",
       "      <th>175001 to 200000</th>\n",
       "    </tr>\n",
       "    <tr>\n",
       "      <th>Balance_ord</th>\n",
       "      <th></th>\n",
       "      <th></th>\n",
       "      <th></th>\n",
       "      <th></th>\n",
       "      <th></th>\n",
       "      <th></th>\n",
       "      <th></th>\n",
       "      <th></th>\n",
       "    </tr>\n",
       "  </thead>\n",
       "  <tbody>\n",
       "    <tr>\n",
       "      <th>0 to 25000</th>\n",
       "      <td>0.124464</td>\n",
       "      <td>0.133630</td>\n",
       "      <td>0.136674</td>\n",
       "      <td>0.136364</td>\n",
       "      <td>0.135255</td>\n",
       "      <td>0.146608</td>\n",
       "      <td>0.144828</td>\n",
       "      <td>0.156109</td>\n",
       "    </tr>\n",
       "    <tr>\n",
       "      <th>25001 to 50000</th>\n",
       "      <td>0.142857</td>\n",
       "      <td>0.375000</td>\n",
       "      <td>0.416667</td>\n",
       "      <td>0.333333</td>\n",
       "      <td>0.333333</td>\n",
       "      <td>0.375000</td>\n",
       "      <td>0.200000</td>\n",
       "      <td>0.272727</td>\n",
       "    </tr>\n",
       "    <tr>\n",
       "      <th>50001 to 100000</th>\n",
       "      <td>0.188889</td>\n",
       "      <td>0.144444</td>\n",
       "      <td>0.188119</td>\n",
       "      <td>0.220994</td>\n",
       "      <td>0.209756</td>\n",
       "      <td>0.191710</td>\n",
       "      <td>0.238095</td>\n",
       "      <td>0.210000</td>\n",
       "    </tr>\n",
       "    <tr>\n",
       "      <th>100001 to 200000</th>\n",
       "      <td>0.262032</td>\n",
       "      <td>0.261307</td>\n",
       "      <td>0.263502</td>\n",
       "      <td>0.213559</td>\n",
       "      <td>0.244224</td>\n",
       "      <td>0.245528</td>\n",
       "      <td>0.252577</td>\n",
       "      <td>0.258706</td>\n",
       "    </tr>\n",
       "    <tr>\n",
       "      <th>200001 to 250900</th>\n",
       "      <td>0.666667</td>\n",
       "      <td>1.000000</td>\n",
       "      <td>0.400000</td>\n",
       "      <td>0.750000</td>\n",
       "      <td>0.200000</td>\n",
       "      <td>0.500000</td>\n",
       "      <td>0.600000</td>\n",
       "      <td>0.750000</td>\n",
       "    </tr>\n",
       "  </tbody>\n",
       "</table>\n",
       "</div>"
      ],
      "text/plain": [
       "EstimatedSalary_ord  0 to 25000  25001 to 50000  50001 to 75000  \\\n",
       "Balance_ord                                                       \n",
       "0 to 25000             0.124464        0.133630        0.136674   \n",
       "25001 to 50000         0.142857        0.375000        0.416667   \n",
       "50001 to 100000        0.188889        0.144444        0.188119   \n",
       "100001 to 200000       0.262032        0.261307        0.263502   \n",
       "200001 to 250900       0.666667        1.000000        0.400000   \n",
       "\n",
       "EstimatedSalary_ord  75001 to 100000  100001 to 125000  125001 to 150000  \\\n",
       "Balance_ord                                                                \n",
       "0 to 25000                  0.136364          0.135255          0.146608   \n",
       "25001 to 50000              0.333333          0.333333          0.375000   \n",
       "50001 to 100000             0.220994          0.209756          0.191710   \n",
       "100001 to 200000            0.213559          0.244224          0.245528   \n",
       "200001 to 250900            0.750000          0.200000          0.500000   \n",
       "\n",
       "EstimatedSalary_ord  150001 to 175000  175001 to 200000  \n",
       "Balance_ord                                              \n",
       "0 to 25000                   0.144828          0.156109  \n",
       "25001 to 50000               0.200000          0.272727  \n",
       "50001 to 100000              0.238095          0.210000  \n",
       "100001 to 200000             0.252577          0.258706  \n",
       "200001 to 250900             0.600000          0.750000  "
      ]
     },
     "execution_count": 113,
     "metadata": {},
     "output_type": "execute_result"
    }
   ],
   "source": [
    "pd.pivot_table(df, values='Exited', index=['Balance_ord'], columns=['EstimatedSalary_ord'], aggfunc=np.mean)"
   ]
  },
  {
   "cell_type": "markdown",
   "id": "60612732",
   "metadata": {},
   "source": [
    "- **Männliche Kunden, die eine CrediScore von 350 bis 500 haben und zwischen 41 und 50 Jahren sind, verlassen die Bank mit einer Wahrscheinlichkeit von 0.45**"
   ]
  },
  {
   "cell_type": "code",
   "execution_count": 114,
   "id": "bc9d36e3",
   "metadata": {},
   "outputs": [
    {
     "data": {
      "text/html": [
       "<div>\n",
       "<style scoped>\n",
       "    .dataframe tbody tr th:only-of-type {\n",
       "        vertical-align: middle;\n",
       "    }\n",
       "\n",
       "    .dataframe tbody tr th {\n",
       "        vertical-align: top;\n",
       "    }\n",
       "\n",
       "    .dataframe thead th {\n",
       "        text-align: right;\n",
       "    }\n",
       "</style>\n",
       "<table border=\"1\" class=\"dataframe\">\n",
       "  <thead>\n",
       "    <tr style=\"text-align: right;\">\n",
       "      <th>Age_ord</th>\n",
       "      <th>18 to 30</th>\n",
       "      <th>31 to 40</th>\n",
       "      <th>41 to 50</th>\n",
       "      <th>51 to 60</th>\n",
       "      <th>61 to 100</th>\n",
       "    </tr>\n",
       "    <tr>\n",
       "      <th>CreditScore_ord</th>\n",
       "      <th></th>\n",
       "      <th></th>\n",
       "      <th></th>\n",
       "      <th></th>\n",
       "      <th></th>\n",
       "    </tr>\n",
       "  </thead>\n",
       "  <tbody>\n",
       "    <tr>\n",
       "      <th>350 to 500</th>\n",
       "      <td>0.000000</td>\n",
       "      <td>0.103365</td>\n",
       "      <td>0.492308</td>\n",
       "      <td>0.304348</td>\n",
       "      <td>1.0</td>\n",
       "    </tr>\n",
       "    <tr>\n",
       "      <th>501 to 699</th>\n",
       "      <td>0.075472</td>\n",
       "      <td>0.109411</td>\n",
       "      <td>0.385432</td>\n",
       "      <td>0.249123</td>\n",
       "      <td>0.0</td>\n",
       "    </tr>\n",
       "    <tr>\n",
       "      <th>700 to 950</th>\n",
       "      <td>0.030303</td>\n",
       "      <td>0.103968</td>\n",
       "      <td>0.398089</td>\n",
       "      <td>0.250000</td>\n",
       "      <td>0.0</td>\n",
       "    </tr>\n",
       "  </tbody>\n",
       "</table>\n",
       "</div>"
      ],
      "text/plain": [
       "Age_ord          18 to 30  31 to 40  41 to 50  51 to 60  61 to 100\n",
       "CreditScore_ord                                                   \n",
       "350 to 500       0.000000  0.103365  0.492308  0.304348        1.0\n",
       "501 to 699       0.075472  0.109411  0.385432  0.249123        0.0\n",
       "700 to 950       0.030303  0.103968  0.398089  0.250000        0.0"
      ]
     },
     "execution_count": 114,
     "metadata": {},
     "output_type": "execute_result"
    }
   ],
   "source": [
    "pd.pivot_table(df, values='Exited', index=['CreditScore_ord'], columns=['Age_ord'], aggfunc=np.mean)"
   ]
  },
  {
   "cell_type": "code",
   "execution_count": 115,
   "id": "a0dc5815",
   "metadata": {},
   "outputs": [
    {
     "name": "stdout",
     "output_type": "stream",
     "text": [
      "Die durchschnitt alter von den Kunden 38.9218\n"
     ]
    }
   ],
   "source": [
    "print('Der durchschnittliche Alter der Kunden', df['Age'].mean())"
   ]
  },
  {
   "cell_type": "code",
   "execution_count": 98,
   "id": "19621f16",
   "metadata": {},
   "outputs": [
    {
     "name": "stdout",
     "output_type": "stream",
     "text": [
      "Die Kunden sind durchschnitt 5.0128 bei der bank\n"
     ]
    }
   ],
   "source": [
    "print('Die Kunden sind durchschnittliche', df['Tenure'].mean(), 'Jahren bei der bank') "
   ]
  },
  {
   "cell_type": "code",
   "execution_count": null,
   "id": "9bd62445",
   "metadata": {},
   "outputs": [],
   "source": []
  },
  {
   "cell_type": "code",
   "execution_count": null,
   "id": "06b2621c",
   "metadata": {},
   "outputs": [],
   "source": []
  }
 ],
 "metadata": {
  "kernelspec": {
   "display_name": "Python 3 (ipykernel)",
   "language": "python",
   "name": "python3"
  },
  "language_info": {
   "codemirror_mode": {
    "name": "ipython",
    "version": 3
   },
   "file_extension": ".py",
   "mimetype": "text/x-python",
   "name": "python",
   "nbconvert_exporter": "python",
   "pygments_lexer": "ipython3",
   "version": "3.10.4"
  }
 },
 "nbformat": 4,
 "nbformat_minor": 5
}
